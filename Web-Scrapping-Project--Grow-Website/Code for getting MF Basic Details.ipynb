{
 "cells": [
  {
   "cell_type": "markdown",
   "id": "23d43877",
   "metadata": {},
   "source": [
    "# Scrapping of Groww Website for getting Data related to Mutual Fund"
   ]
  },
  {
   "cell_type": "markdown",
   "id": "a9fee658",
   "metadata": {},
   "source": [
    "Aim:-\n",
    "    \n",
    "1.To get the List of Top 10 Mitual fund Available in Large cap, Small Cap & Mid Cap.\n",
    "\n",
    "2.With details like Mitual Fund Name,MF Link,MF category,1st Year & 3rd year return\n",
    "    "
   ]
  },
  {
   "cell_type": "markdown",
   "id": "06619d4a",
   "metadata": {},
   "source": [
    "# Importing Library such as Request,bs4 & pandas"
   ]
  },
  {
   "cell_type": "code",
   "execution_count": 32,
   "id": "e7293df6",
   "metadata": {},
   "outputs": [],
   "source": [
    "import requests\n",
    "import bs4\n",
    "import pandas as pd"
   ]
  },
  {
   "cell_type": "code",
   "execution_count": 2,
   "id": "ed6eae7a",
   "metadata": {},
   "outputs": [],
   "source": [
    "topic_url=\"https://groww.in/mutual-funds/collections/best-large-cap\""
   ]
  },
  {
   "cell_type": "code",
   "execution_count": 3,
   "id": "fbdd25f1",
   "metadata": {},
   "outputs": [
    {
     "data": {
      "text/plain": [
       "<Response [200]>"
      ]
     },
     "execution_count": 3,
     "metadata": {},
     "output_type": "execute_result"
    }
   ],
   "source": [
    "response=requests.get(topic_url)\n",
    "response"
   ]
  },
  {
   "cell_type": "code",
   "execution_count": 4,
   "id": "1f0a05a8",
   "metadata": {},
   "outputs": [
    {
     "data": {
      "text/plain": [
       "62051"
      ]
     },
     "execution_count": 4,
     "metadata": {},
     "output_type": "execute_result"
    }
   ],
   "source": [
    "len(response.text)"
   ]
  },
  {
   "cell_type": "code",
   "execution_count": 5,
   "id": "17259d6e",
   "metadata": {},
   "outputs": [
    {
     "data": {
      "text/plain": [
       "str"
      ]
     },
     "execution_count": 5,
     "metadata": {},
     "output_type": "execute_result"
    }
   ],
   "source": [
    "page_content=response.text\n",
    "type(page_content)"
   ]
  },
  {
   "cell_type": "code",
   "execution_count": 6,
   "id": "b5ab39d3",
   "metadata": {},
   "outputs": [
    {
     "data": {
      "text/plain": [
       "'<!DOCTYPE html><html lang=\"en\" data-theme=\"light\"><head><meta charSet=\"utf-8\" /><meta name=\"viewport'"
      ]
     },
     "execution_count": 6,
     "metadata": {},
     "output_type": "execute_result"
    }
   ],
   "source": [
    "page_content[:100]"
   ]
  },
  {
   "cell_type": "code",
   "execution_count": 7,
   "id": "846d2fc2",
   "metadata": {},
   "outputs": [
    {
     "data": {
      "text/plain": [
       "'<!DOCTYPE html><html lang=\"en\" data-theme=\"light\"><head><meta charSet=\"utf-8\" /><meta name=\"viewport'"
      ]
     },
     "execution_count": 7,
     "metadata": {},
     "output_type": "execute_result"
    }
   ],
   "source": [
    "#Short Code to extract data\n",
    "web_data=requests.get(topic_url).text\n",
    "web_data[:100]"
   ]
  },
  {
   "cell_type": "markdown",
   "id": "be7f3895",
   "metadata": {},
   "source": [
    "# Use Beautiful Soup to parse and extract information"
   ]
  },
  {
   "cell_type": "code",
   "execution_count": 9,
   "id": "bee75233",
   "metadata": {},
   "outputs": [
    {
     "data": {
      "text/plain": [
       "bs4.BeautifulSoup"
      ]
     },
     "execution_count": 9,
     "metadata": {},
     "output_type": "execute_result"
    }
   ],
   "source": [
    "main_page_html=BeautifulSoup(page_content,\"html.parser\")\n",
    "type(main_page_html)"
   ]
  },
  {
   "cell_type": "code",
   "execution_count": 10,
   "id": "81da1c9b",
   "metadata": {},
   "outputs": [],
   "source": [
    "Large_cap_mf_selection=\"cst14FundName cur-po clrText\"\n",
    "Large_cap_MF_Name=main_page_html.find_all('a',class_=Large_cap_mf_selection)"
   ]
  },
  {
   "cell_type": "code",
   "execution_count": 11,
   "id": "dc703191",
   "metadata": {},
   "outputs": [
    {
     "data": {
      "text/plain": [
       "'HDFC Index S&P BSE Sensex Direct Plan Growth'"
      ]
     },
     "execution_count": 11,
     "metadata": {},
     "output_type": "execute_result"
    }
   ],
   "source": [
    "Large_cap_MF_Name[0].text"
   ]
  },
  {
   "cell_type": "markdown",
   "id": "106ff4f4",
   "metadata": {},
   "source": [
    "# Getting the List of Large Cap MF List"
   ]
  },
  {
   "cell_type": "code",
   "execution_count": 12,
   "id": "d338d223",
   "metadata": {},
   "outputs": [
    {
     "data": {
      "text/plain": [
       "['HDFC Index S&P BSE Sensex Direct Plan Growth',\n",
       " 'Axis Bluechip Fund Direct Plan Growth',\n",
       " 'UTI Nifty 50 Index Fund Direct Growth',\n",
       " 'ICICI Prudential Bluechip Fund Direct Growth',\n",
       " 'Canara Robeco Bluechip Equity Fund Direct Growth',\n",
       " 'Navi Nifty 50 Index Fund Direct Growth',\n",
       " 'ICICI Prudential Nifty 50 Index Direct Plan Growth',\n",
       " 'ICICI Prudential S&P BSE Sensex Index Fund Direct Growth',\n",
       " 'Bandhan Nifty 50 Index Fund Direct Plan Growth',\n",
       " 'SBI Bluechip Direct Plan Growth']"
      ]
     },
     "execution_count": 12,
     "metadata": {},
     "output_type": "execute_result"
    }
   ],
   "source": [
    "##getting the List of Large Cap MF List\n",
    "Large_cap_MF_List=[]\n",
    "for i in Large_cap_MF_Name:\n",
    "    Large_cap_MF_List.append(i.text)\n",
    "Large_cap_MF_List"
   ]
  },
  {
   "cell_type": "code",
   "execution_count": 13,
   "id": "334004ff",
   "metadata": {},
   "outputs": [
    {
     "data": {
      "text/plain": [
       "'/mutual-funds/hdfc-index-fund-sensex-plan-direct'"
      ]
     },
     "execution_count": 13,
     "metadata": {},
     "output_type": "execute_result"
    }
   ],
   "source": [
    "Large_cap_MF_Name[0][\"href\"]"
   ]
  },
  {
   "cell_type": "code",
   "execution_count": 14,
   "id": "f2f194df",
   "metadata": {},
   "outputs": [
    {
     "data": {
      "text/plain": [
       "['https://groww.in//mutual-funds/hdfc-index-fund-sensex-plan-direct',\n",
       " 'https://groww.in//mutual-funds/axis-equity-fund-direct-growth',\n",
       " 'https://groww.in//mutual-funds/uti-nifty-fund-direct-growth',\n",
       " 'https://groww.in//mutual-funds/icici-prudential-focused-bluechip-equity-fund-direct-growth',\n",
       " 'https://groww.in//mutual-funds/canara-robeco-large-cap-fund-direct-growth',\n",
       " 'https://groww.in//mutual-funds/navi-nifty-50-index-fund-direct-growth',\n",
       " 'https://groww.in//mutual-funds/icici-prudential-nifty-index-fund-direct-growth',\n",
       " 'https://groww.in//mutual-funds/icici-prudential-sensex-index-fund-direct-growth',\n",
       " 'https://groww.in//mutual-funds/idfc-nifty-fund-direct-growth',\n",
       " 'https://groww.in//mutual-funds/sbi-bluechip-fund-direct-growth']"
      ]
     },
     "execution_count": 14,
     "metadata": {},
     "output_type": "execute_result"
    }
   ],
   "source": [
    "##getting the List of Large Cap MF Link\n",
    "base_link=\"https://groww.in/\"\n",
    "Large_cap_MF_url_List=[]\n",
    "for i in range(len(Large_cap_MF_Name)):\n",
    "    Large_cap_MF_url_List.append(base_link+(Large_cap_MF_Name[i][\"href\"]))\n",
    "Large_cap_MF_url_List"
   ]
  },
  {
   "cell_type": "code",
   "execution_count": 15,
   "id": "6e966914",
   "metadata": {},
   "outputs": [],
   "source": [
    "Large_cap_mf_cat_Selection=\"cst14CategoryValues\"\n",
    "Large_cap_mf_cat=main_page_html.find_all('div',class_=Large_cap_mf_cat_Selection)"
   ]
  },
  {
   "cell_type": "code",
   "execution_count": 16,
   "id": "01361b9f",
   "metadata": {},
   "outputs": [
    {
     "data": {
      "text/plain": [
       "'Equity Large Cap'"
      ]
     },
     "execution_count": 16,
     "metadata": {},
     "output_type": "execute_result"
    }
   ],
   "source": [
    "Large_cap_mf_cat[0].text"
   ]
  },
  {
   "cell_type": "code",
   "execution_count": 17,
   "id": "b0978dd2",
   "metadata": {},
   "outputs": [
    {
     "data": {
      "text/plain": [
       "['Equity Large Cap',\n",
       " 'Equity Large Cap',\n",
       " 'Equity Index',\n",
       " 'Equity Large Cap',\n",
       " 'Equity Large Cap',\n",
       " 'Equity Large Cap',\n",
       " 'Equity Index',\n",
       " 'Equity Index',\n",
       " 'Others Index',\n",
       " 'Equity Large Cap']"
      ]
     },
     "execution_count": 17,
     "metadata": {},
     "output_type": "execute_result"
    }
   ],
   "source": [
    "##getting the List of Large Cap MF Cat\n",
    "\n",
    "Large_cap_MF_Cat_List=[]\n",
    "\n",
    "for i in range(len(Large_cap_mf_cat)):\n",
    "    Large_cap_mf_cat[i].text\n",
    "    Large_cap_MF_Cat_List.append((Large_cap_mf_cat[i].text))\n",
    "Large_cap_MF_Cat_List"
   ]
  },
  {
   "cell_type": "code",
   "execution_count": 18,
   "id": "399b19bf",
   "metadata": {},
   "outputs": [],
   "source": [
    "Large_cap_mf_star_selector=\"fw500 valign-wrapper\"\n",
    "Large_cap_mf_star=main_page_html.find_all('div',class_=Large_cap_mf_star_selector)"
   ]
  },
  {
   "cell_type": "code",
   "execution_count": 19,
   "id": "505abfd9",
   "metadata": {},
   "outputs": [
    {
     "data": {
      "text/plain": [
       "<div class=\"fw500 valign-wrapper\">4<svg class=\"cst14Star pos-rel\" fill=\"currentColor\" height=\"12\" viewbox=\"0 0 24 24\" width=\"12\" xmlns=\"http://www.w3.org/2000/svg\"><path d=\"M0 0h24v24H0z\" fill=\"none\"></path><path d=\"M0 0h24v24H0z\" fill=\"none\"></path><path d=\"M12 17.27L18.18 21l-1.64-7.03L22 9.24l-7.19-.61L12 2 9.19 8.63 2 9.24l5.46 4.73L5.82 21z\"></path></svg></div>"
      ]
     },
     "execution_count": 19,
     "metadata": {},
     "output_type": "execute_result"
    }
   ],
   "source": [
    "Large_cap_mf_star[0]"
   ]
  },
  {
   "cell_type": "code",
   "execution_count": 20,
   "id": "265d85b4",
   "metadata": {},
   "outputs": [
    {
     "data": {
      "text/plain": [
       "'4'"
      ]
     },
     "execution_count": 20,
     "metadata": {},
     "output_type": "execute_result"
    }
   ],
   "source": [
    "Large_cap_mf_star[0].text"
   ]
  },
  {
   "cell_type": "code",
   "execution_count": 21,
   "id": "c5e57555",
   "metadata": {},
   "outputs": [
    {
     "data": {
      "text/plain": [
       "['4', '4', '4', '4', '4', '4', '4', '4', '4']"
      ]
     },
     "execution_count": 21,
     "metadata": {},
     "output_type": "execute_result"
    }
   ],
   "source": [
    "##getting the List of Large Cap MF Star\n",
    "\n",
    "Large_cap_mf_star_list=[]\n",
    "\n",
    "for i in range(len(Large_cap_mf_star)):\n",
    "    Large_cap_mf_star[i].text\n",
    "    Large_cap_mf_star_list.append((Large_cap_mf_star[0].text))\n",
    "Large_cap_mf_star_list"
   ]
  },
  {
   "cell_type": "code",
   "execution_count": 22,
   "id": "7105621e",
   "metadata": {},
   "outputs": [
    {
     "data": {
      "text/plain": [
       "'4'"
      ]
     },
     "execution_count": 22,
     "metadata": {},
     "output_type": "execute_result"
    }
   ],
   "source": [
    "Large_cap_mf_star[1].text"
   ]
  },
  {
   "cell_type": "code",
   "execution_count": 23,
   "id": "2155628a",
   "metadata": {},
   "outputs": [],
   "source": [
    "Large_cap_mf_5yr_rating_selector=\"cst14ColumnPadding\"\n",
    "Large_Cap_return=main_page_html.find_all('td',class_=Large_cap_mf_5yr_rating_selector)"
   ]
  },
  {
   "cell_type": "code",
   "execution_count": 24,
   "id": "11c13332",
   "metadata": {},
   "outputs": [
    {
     "name": "stdout",
     "output_type": "stream",
     "text": [
      "['1.4%', '30.4%', '-6.0%', '21.1%', '-0.2%', '30.6%', '2.8%', '32.3%', '1.0%', '28.2%', '-0.2%', 'NA', '-0.2%', '30.4%', '1.4%', '30.1%', '-0.1%', '30.5%', '2.8%', '31.5%']\n"
     ]
    }
   ],
   "source": [
    "return_list=[]\n",
    "\n",
    "for i in range(len(Large_Cap_return)):\n",
    "    Large_Cap_return[i].text\n",
    "    return_list.append((Large_Cap_return[i].text))\n",
    "    \n",
    "print(return_list)\n"
   ]
  },
  {
   "cell_type": "code",
   "execution_count": 25,
   "id": "3e3dc88a",
   "metadata": {},
   "outputs": [
    {
     "data": {
      "text/plain": [
       "['1.4%',\n",
       " '-6.0%',\n",
       " '-0.2%',\n",
       " '2.8%',\n",
       " '1.0%',\n",
       " '-0.2%',\n",
       " '-0.2%',\n",
       " '1.4%',\n",
       " '-0.1%',\n",
       " '2.8%']"
      ]
     },
     "execution_count": 25,
     "metadata": {},
     "output_type": "execute_result"
    }
   ],
   "source": [
    "First_year_return_list=return_list[::2]\n",
    "First_year_return_list  "
   ]
  },
  {
   "cell_type": "code",
   "execution_count": 26,
   "id": "eaddc110",
   "metadata": {},
   "outputs": [
    {
     "data": {
      "text/plain": [
       "['30.4%',\n",
       " '21.1%',\n",
       " '30.6%',\n",
       " '32.3%',\n",
       " '28.2%',\n",
       " 'NA',\n",
       " '30.4%',\n",
       " '30.1%',\n",
       " '30.5%',\n",
       " '31.5%']"
      ]
     },
     "execution_count": 26,
     "metadata": {},
     "output_type": "execute_result"
    }
   ],
   "source": [
    "Third_year_return_list=return_list[1::2]\n",
    "Third_year_return_list    "
   ]
  },
  {
   "cell_type": "code",
   "execution_count": 27,
   "id": "61cda3b5",
   "metadata": {},
   "outputs": [],
   "source": [
    "Large_Cap_MF_List={\n",
    "    \"Mutual Fund Name\":Large_cap_MF_List,\n",
    "    \"Mutual Fund URL\":Large_cap_MF_url_List,\n",
    "    \"Mutual Fund category\":Large_cap_MF_Cat_List,\n",
    "    \"1st year Return\":First_year_return_list,\n",
    "    \"3rd year Return\":Third_year_return_list,\n",
    "    \n",
    "}"
   ]
  },
  {
   "cell_type": "code",
   "execution_count": 29,
   "id": "0969fe0d",
   "metadata": {},
   "outputs": [
    {
     "data": {
      "text/html": [
       "<div>\n",
       "<style scoped>\n",
       "    .dataframe tbody tr th:only-of-type {\n",
       "        vertical-align: middle;\n",
       "    }\n",
       "\n",
       "    .dataframe tbody tr th {\n",
       "        vertical-align: top;\n",
       "    }\n",
       "\n",
       "    .dataframe thead th {\n",
       "        text-align: right;\n",
       "    }\n",
       "</style>\n",
       "<table border=\"1\" class=\"dataframe\">\n",
       "  <thead>\n",
       "    <tr style=\"text-align: right;\">\n",
       "      <th></th>\n",
       "      <th>Mutual Fund Name</th>\n",
       "      <th>Mutual Fund URL</th>\n",
       "      <th>Mutual Fund category</th>\n",
       "      <th>1st year Return</th>\n",
       "      <th>3rd year Return</th>\n",
       "    </tr>\n",
       "  </thead>\n",
       "  <tbody>\n",
       "    <tr>\n",
       "      <th>0</th>\n",
       "      <td>HDFC Index S&amp;P BSE Sensex Direct Plan Growth</td>\n",
       "      <td>https://groww.in//mutual-funds/hdfc-index-fund...</td>\n",
       "      <td>Equity Large Cap</td>\n",
       "      <td>1.4%</td>\n",
       "      <td>30.4%</td>\n",
       "    </tr>\n",
       "    <tr>\n",
       "      <th>1</th>\n",
       "      <td>Axis Bluechip Fund Direct Plan Growth</td>\n",
       "      <td>https://groww.in//mutual-funds/axis-equity-fun...</td>\n",
       "      <td>Equity Large Cap</td>\n",
       "      <td>-6.0%</td>\n",
       "      <td>21.1%</td>\n",
       "    </tr>\n",
       "    <tr>\n",
       "      <th>2</th>\n",
       "      <td>UTI Nifty 50 Index Fund Direct Growth</td>\n",
       "      <td>https://groww.in//mutual-funds/uti-nifty-fund-...</td>\n",
       "      <td>Equity Index</td>\n",
       "      <td>-0.2%</td>\n",
       "      <td>30.6%</td>\n",
       "    </tr>\n",
       "    <tr>\n",
       "      <th>3</th>\n",
       "      <td>ICICI Prudential Bluechip Fund Direct Growth</td>\n",
       "      <td>https://groww.in//mutual-funds/icici-prudentia...</td>\n",
       "      <td>Equity Large Cap</td>\n",
       "      <td>2.8%</td>\n",
       "      <td>32.3%</td>\n",
       "    </tr>\n",
       "    <tr>\n",
       "      <th>4</th>\n",
       "      <td>Canara Robeco Bluechip Equity Fund Direct Growth</td>\n",
       "      <td>https://groww.in//mutual-funds/canara-robeco-l...</td>\n",
       "      <td>Equity Large Cap</td>\n",
       "      <td>1.0%</td>\n",
       "      <td>28.2%</td>\n",
       "    </tr>\n",
       "    <tr>\n",
       "      <th>5</th>\n",
       "      <td>Navi Nifty 50 Index Fund Direct Growth</td>\n",
       "      <td>https://groww.in//mutual-funds/navi-nifty-50-i...</td>\n",
       "      <td>Equity Large Cap</td>\n",
       "      <td>-0.2%</td>\n",
       "      <td>NA</td>\n",
       "    </tr>\n",
       "    <tr>\n",
       "      <th>6</th>\n",
       "      <td>ICICI Prudential Nifty 50 Index Direct Plan Gr...</td>\n",
       "      <td>https://groww.in//mutual-funds/icici-prudentia...</td>\n",
       "      <td>Equity Index</td>\n",
       "      <td>-0.2%</td>\n",
       "      <td>30.4%</td>\n",
       "    </tr>\n",
       "    <tr>\n",
       "      <th>7</th>\n",
       "      <td>ICICI Prudential S&amp;P BSE Sensex Index Fund Dir...</td>\n",
       "      <td>https://groww.in//mutual-funds/icici-prudentia...</td>\n",
       "      <td>Equity Index</td>\n",
       "      <td>1.4%</td>\n",
       "      <td>30.1%</td>\n",
       "    </tr>\n",
       "    <tr>\n",
       "      <th>8</th>\n",
       "      <td>Bandhan Nifty 50 Index Fund Direct Plan Growth</td>\n",
       "      <td>https://groww.in//mutual-funds/idfc-nifty-fund...</td>\n",
       "      <td>Others Index</td>\n",
       "      <td>-0.1%</td>\n",
       "      <td>30.5%</td>\n",
       "    </tr>\n",
       "    <tr>\n",
       "      <th>9</th>\n",
       "      <td>SBI Bluechip Direct Plan Growth</td>\n",
       "      <td>https://groww.in//mutual-funds/sbi-bluechip-fu...</td>\n",
       "      <td>Equity Large Cap</td>\n",
       "      <td>2.8%</td>\n",
       "      <td>31.5%</td>\n",
       "    </tr>\n",
       "  </tbody>\n",
       "</table>\n",
       "</div>"
      ],
      "text/plain": [
       "                                    Mutual Fund Name  \\\n",
       "0       HDFC Index S&P BSE Sensex Direct Plan Growth   \n",
       "1              Axis Bluechip Fund Direct Plan Growth   \n",
       "2              UTI Nifty 50 Index Fund Direct Growth   \n",
       "3       ICICI Prudential Bluechip Fund Direct Growth   \n",
       "4   Canara Robeco Bluechip Equity Fund Direct Growth   \n",
       "5             Navi Nifty 50 Index Fund Direct Growth   \n",
       "6  ICICI Prudential Nifty 50 Index Direct Plan Gr...   \n",
       "7  ICICI Prudential S&P BSE Sensex Index Fund Dir...   \n",
       "8     Bandhan Nifty 50 Index Fund Direct Plan Growth   \n",
       "9                    SBI Bluechip Direct Plan Growth   \n",
       "\n",
       "                                     Mutual Fund URL Mutual Fund category  \\\n",
       "0  https://groww.in//mutual-funds/hdfc-index-fund...     Equity Large Cap   \n",
       "1  https://groww.in//mutual-funds/axis-equity-fun...     Equity Large Cap   \n",
       "2  https://groww.in//mutual-funds/uti-nifty-fund-...         Equity Index   \n",
       "3  https://groww.in//mutual-funds/icici-prudentia...     Equity Large Cap   \n",
       "4  https://groww.in//mutual-funds/canara-robeco-l...     Equity Large Cap   \n",
       "5  https://groww.in//mutual-funds/navi-nifty-50-i...     Equity Large Cap   \n",
       "6  https://groww.in//mutual-funds/icici-prudentia...         Equity Index   \n",
       "7  https://groww.in//mutual-funds/icici-prudentia...         Equity Index   \n",
       "8  https://groww.in//mutual-funds/idfc-nifty-fund...         Others Index   \n",
       "9  https://groww.in//mutual-funds/sbi-bluechip-fu...     Equity Large Cap   \n",
       "\n",
       "  1st year Return 3rd year Return  \n",
       "0            1.4%           30.4%  \n",
       "1           -6.0%           21.1%  \n",
       "2           -0.2%           30.6%  \n",
       "3            2.8%           32.3%  \n",
       "4            1.0%           28.2%  \n",
       "5           -0.2%              NA  \n",
       "6           -0.2%           30.4%  \n",
       "7            1.4%           30.1%  \n",
       "8           -0.1%           30.5%  \n",
       "9            2.8%           31.5%  "
      ]
     },
     "execution_count": 29,
     "metadata": {},
     "output_type": "execute_result"
    }
   ],
   "source": [
    "Large_Cap_MF_List_df=pd.DataFrame(Large_Cap_MF_List)\n",
    "Large_Cap_MF_List_df"
   ]
  },
  {
   "cell_type": "code",
   "execution_count": 30,
   "id": "b99e5c10",
   "metadata": {},
   "outputs": [],
   "source": [
    "Large_Cap_MF_List_df.to_excel('Large Cap MF List.xlsx',index=True, startrow=1)"
   ]
  },
  {
   "cell_type": "markdown",
   "id": "b9962acf",
   "metadata": {},
   "source": [
    "# Final Code for getting MF List with Details like MF Name , MF Link , Type,1st Year return & 3rd Year return."
   ]
  },
  {
   "cell_type": "code",
   "execution_count": 47,
   "id": "00d3f198",
   "metadata": {},
   "outputs": [
    {
     "name": "stdout",
     "output_type": "stream",
     "text": [
      "Enter the URL of Small/MID/Large Caphttps://groww.in/mutual-funds/collections/best-high-return\n"
     ]
    },
    {
     "data": {
      "text/plain": [
       "'Thanks, your List is ready.'"
      ]
     },
     "execution_count": 47,
     "metadata": {},
     "output_type": "execute_result"
    }
   ],
   "source": [
    "import os\n",
    "import bs4\n",
    "import requests\n",
    "from bs4 import BeautifulSoup\n",
    "import pandas as pd\n",
    "\n",
    "#getting Url from the User\n",
    "topic_url = input(\"Enter the URL of Small/MID/Large Cap\")\n",
    "\n",
    "def get_topic_page(topic_url):\n",
    "    # Download the page\n",
    "    response = requests.get(topic_url)\n",
    "    page_content = response.text\n",
    "    # Check successful response\n",
    "    if response.status_code != 200:\n",
    "        raise Exception('Failed to load page {}'.format(topic_url))\n",
    "    # Parse using Beautiful soup\n",
    "    html= BeautifulSoup(page_content, 'html.parser')\n",
    "    \n",
    "    #getting Mutual Fund List \n",
    "    mf_selection=\"cst14FundName cur-po clrText\"\n",
    "    MF_Name=html.find_all('a',class_=mf_selection)\n",
    "    MF_List=[]\n",
    "    for i in MF_Name:\n",
    "        MF_List.append(i.text)\n",
    "\n",
    "\n",
    "    #Getting Mutual Fund Link \n",
    "    base_link=\"https://groww.in/\"\n",
    "            \n",
    "    mf_selection=\"cst14FundName cur-po clrText\"\n",
    "    MF_Name=html.find_all('a',class_=mf_selection)\n",
    "    MF_Link=[]\n",
    "    for i in range(len(MF_Name)):\n",
    "        MF_Link.append(base_link+(MF_Name[i][\"href\"]))\n",
    "\n",
    "\n",
    "    #Getting Mutual Fund category Selection\n",
    "    mf_Cat_Selection=\"cst14CategoryValues\"\n",
    "    mf_cat=html.find_all('div',class_=mf_Cat_Selection)\n",
    "    mf_cat[0].text\n",
    "\n",
    "    MF_cat_list=[]\n",
    "\n",
    "    for i in range(len(mf_cat)):\n",
    "        mf_cat[i].text\n",
    "        MF_cat_list.append((mf_cat[i].text))\n",
    "    \n",
    "\n",
    "\n",
    "    #Getting Mutual Fund return (1st & 3rd year)\n",
    "    return_selector=\"cst14ColumnPadding\"\n",
    "    MF_return=html.find_all('td',class_=return_selector)\n",
    "    return_list=[]\n",
    "    return_dict={\n",
    "        \"First_year_return_list\":[],\n",
    "        \"Third_year_return_list\":[]\n",
    "    }\n",
    "    \n",
    "    for i in range(len(MF_return)):\n",
    "        MF_return[i].text\n",
    "        return_list.append((MF_return[i].text))\n",
    "    \n",
    "    First_year_return_list=return_list[::2]\n",
    "    Third_year_return_list=return_list[1::2]\n",
    "        \n",
    "    return_dict['First_year_return_list'] = First_year_return_list\n",
    "    return_dict['Third_year_return_list'] = Third_year_return_list\n",
    "    \n",
    "    ##Getting Mutual Fund Details \n",
    "    MF_Details ={\n",
    "        \"Mutual Fund Name\":MF_List,\n",
    "        \"Mutual Fund URL\":MF_Link,\n",
    "        \"Mutual Fund category\":MF_cat_list,\n",
    "        \"1st year Return\":First_year_return_list,\n",
    "        \"3rd year Return\":Third_year_return_list,    \n",
    "    }\n",
    "\n",
    "    #Getting Mutual Fund dataframe\n",
    "    Mutual_List_master_list=pd.DataFrame(MF_Details)\n",
    "    Mutual_List_master_list.to_excel('MF List.xlsx',index=1)\n",
    "    return \"Thanks, your List is ready.\"\n",
    "\n",
    "get_topic_page(topic_url)\n",
    "\n"
   ]
  },
  {
   "cell_type": "code",
   "execution_count": null,
   "id": "b2f5457a",
   "metadata": {},
   "outputs": [],
   "source": []
  }
 ],
 "metadata": {
  "kernelspec": {
   "display_name": "Python 3 (ipykernel)",
   "language": "python",
   "name": "python3"
  },
  "language_info": {
   "codemirror_mode": {
    "name": "ipython",
    "version": 3
   },
   "file_extension": ".py",
   "mimetype": "text/x-python",
   "name": "python",
   "nbconvert_exporter": "python",
   "pygments_lexer": "ipython3",
   "version": "3.9.12"
  }
 },
 "nbformat": 4,
 "nbformat_minor": 5
}
