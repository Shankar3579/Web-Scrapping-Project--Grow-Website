{
 "cells": [
  {
   "cell_type": "markdown",
   "id": "76f7d3f8",
   "metadata": {},
   "source": [
    "# Web Scrapping of Groww Website for Mutual Fund Details"
   ]
  },
  {
   "cell_type": "markdown",
   "id": "6b2e429e",
   "metadata": {},
   "source": [
    "AIM-\n",
    "\n",
    "1.To Get Mutual Fund Details (MF Name, NAV,MIN SIP, MF rank,Fund Size,Fund Manager,Exit Load,Tax implication,Expense ratio etc.)\n",
    "\n",
    "2.To Get the Details of Asset Allocation in Various Sector with percentage of Allocation."
   ]
  },
  {
   "cell_type": "markdown",
   "id": "aa575cd9",
   "metadata": {},
   "source": [
    "# Step 1- Use the requests library to download web pages"
   ]
  },
  {
   "cell_type": "code",
   "execution_count": 1,
   "id": "29375a3d",
   "metadata": {},
   "outputs": [],
   "source": [
    "import requests\n",
    "import bs4\n",
    "import pandas as pd"
   ]
  },
  {
   "cell_type": "code",
   "execution_count": 2,
   "id": "96d217c0",
   "metadata": {},
   "outputs": [
    {
     "data": {
      "text/plain": [
       "<Response [200]>"
      ]
     },
     "execution_count": 2,
     "metadata": {},
     "output_type": "execute_result"
    }
   ],
   "source": [
    "response=requests.get(\"https://groww.in/mutual-funds/quant-small-cap-fund-direct-plan-growth\")\n",
    "response"
   ]
  },
  {
   "cell_type": "code",
   "execution_count": 3,
   "id": "804e4fe7",
   "metadata": {},
   "outputs": [
    {
     "data": {
      "text/plain": [
       "requests.models.Response"
      ]
     },
     "execution_count": 3,
     "metadata": {},
     "output_type": "execute_result"
    }
   ],
   "source": [
    "type(response)"
   ]
  },
  {
   "cell_type": "code",
   "execution_count": 4,
   "id": "cce13da8",
   "metadata": {},
   "outputs": [
    {
     "data": {
      "text/plain": [
       "'<!DOCTYPE html><html lang=\"en\" data-theme=\"light\"><head><meta charSet=\"utf-8\" /><meta name=\"viewport'"
      ]
     },
     "execution_count": 4,
     "metadata": {},
     "output_type": "execute_result"
    }
   ],
   "source": [
    "page_content=response.text\n",
    "page_content[:100]"
   ]
  },
  {
   "cell_type": "markdown",
   "id": "9844ea41",
   "metadata": {},
   "source": [
    "# Use Beautiful Soup to parse and extract information"
   ]
  },
  {
   "cell_type": "code",
   "execution_count": 5,
   "id": "e26484d6",
   "metadata": {},
   "outputs": [],
   "source": [
    "from bs4 import BeautifulSoup"
   ]
  },
  {
   "cell_type": "code",
   "execution_count": 6,
   "id": "3542bed1",
   "metadata": {},
   "outputs": [],
   "source": [
    "html=BeautifulSoup(page_content,\"html.parser\")"
   ]
  },
  {
   "cell_type": "code",
   "execution_count": 7,
   "id": "2a5ab5c0",
   "metadata": {},
   "outputs": [
    {
     "data": {
      "text/plain": [
       "bs4.BeautifulSoup"
      ]
     },
     "execution_count": 7,
     "metadata": {},
     "output_type": "execute_result"
    }
   ],
   "source": [
    "type(html)"
   ]
  },
  {
   "cell_type": "markdown",
   "id": "6e465244",
   "metadata": {},
   "source": [
    "# Getting Mutual Fund key Details Details"
   ]
  },
  {
   "cell_type": "markdown",
   "id": "0f062f2c",
   "metadata": {},
   "source": [
    "# Mutual Fund Name"
   ]
  },
  {
   "cell_type": "code",
   "execution_count": 8,
   "id": "2c67836d",
   "metadata": {},
   "outputs": [],
   "source": [
    "MF_Name_selector=\"mfh239SchemeName fw400 fs24\"\n",
    "MF_Name=html.find_all(\"h1\",class_=MF_Name_selector)"
   ]
  },
  {
   "cell_type": "code",
   "execution_count": 9,
   "id": "bc500585",
   "metadata": {},
   "outputs": [
    {
     "data": {
      "text/plain": [
       "'Quant Small Cap Fund Direct Plan Growth'"
      ]
     },
     "execution_count": 9,
     "metadata": {},
     "output_type": "execute_result"
    }
   ],
   "source": [
    "MF_Name[0].text"
   ]
  },
  {
   "cell_type": "markdown",
   "id": "504333e1",
   "metadata": {},
   "source": [
    "# Mutual Fund NAV Date, NAV ,Min. SIP, Fund Size"
   ]
  },
  {
   "cell_type": "code",
   "execution_count": 10,
   "id": "49c136cb",
   "metadata": {},
   "outputs": [],
   "source": [
    "MF_NAV_date_selection=\"fd12Header clrSubText fs16 fw400\"\n",
    "MF_NAV_date=html.find_all(\"td\",class_=MF_NAV_date_selection)"
   ]
  },
  {
   "cell_type": "code",
   "execution_count": 11,
   "id": "1be16452",
   "metadata": {},
   "outputs": [
    {
     "data": {
      "text/plain": [
       "' NAV: 06 Apr 2023'"
      ]
     },
     "execution_count": 11,
     "metadata": {},
     "output_type": "execute_result"
    }
   ],
   "source": [
    "MF_NAV_date[0].text"
   ]
  },
  {
   "cell_type": "code",
   "execution_count": 12,
   "id": "6871ed68",
   "metadata": {},
   "outputs": [],
   "source": [
    "MF_NAV_selection=\"fd12Cell clrText130 fs16 fw500\"\n",
    "MF_NAV=html.find_all(\"td\",class_=MF_NAV_selection)"
   ]
  },
  {
   "cell_type": "code",
   "execution_count": 13,
   "id": "c2fdf703",
   "metadata": {},
   "outputs": [
    {
     "data": {
      "text/plain": [
       "'₹150.20'"
      ]
     },
     "execution_count": 13,
     "metadata": {},
     "output_type": "execute_result"
    }
   ],
   "source": [
    "MF_NAV[0].text"
   ]
  },
  {
   "cell_type": "code",
   "execution_count": 14,
   "id": "37c6b8da",
   "metadata": {},
   "outputs": [],
   "source": [
    "MF_Min_SIP_selection=\"fd12Cell clrText130 fs16 fw500\"\n",
    "MF_Min_SIP=html.find_all(\"td\",class_=MF_NAV_selection)"
   ]
  },
  {
   "cell_type": "code",
   "execution_count": 15,
   "id": "488c5196",
   "metadata": {},
   "outputs": [
    {
     "data": {
      "text/plain": [
       "'₹1,000'"
      ]
     },
     "execution_count": 15,
     "metadata": {},
     "output_type": "execute_result"
    }
   ],
   "source": [
    "MF_NAV[1].text"
   ]
  },
  {
   "cell_type": "code",
   "execution_count": 16,
   "id": "e8ac9892",
   "metadata": {},
   "outputs": [],
   "source": [
    "MF_fund_size_selection=\"fd12Cell clrText130 fs16 fw500\"\n",
    "MF_fund_size=html.find_all(\"td\",class_=MF_NAV_selection)"
   ]
  },
  {
   "cell_type": "code",
   "execution_count": 17,
   "id": "4efb4057",
   "metadata": {},
   "outputs": [
    {
     "data": {
      "text/plain": [
       "'₹3,301.73Cr'"
      ]
     },
     "execution_count": 17,
     "metadata": {},
     "output_type": "execute_result"
    }
   ],
   "source": [
    "MF_fund_size[2].text"
   ]
  },
  {
   "cell_type": "code",
   "execution_count": 94,
   "id": "de6fc859",
   "metadata": {},
   "outputs": [
    {
     "data": {
      "text/plain": [
       "{'Mutual Fund Name': 'Quant Small Cap Fund Direct Plan Growth',\n",
       " 'Mutual NAV Date': '₹150.20',\n",
       " 'Mutual NAV ': '₹1,000',\n",
       " 'Mutual Fund Size': '₹3,301.73Cr'}"
      ]
     },
     "execution_count": 94,
     "metadata": {},
     "output_type": "execute_result"
    }
   ],
   "source": [
    "MF_Insignt_4={\n",
    "    \"Mutual Fund Name\":MF_Name[0].text,\n",
    "    \"Mutual NAV Date\":MF_NAV[0].text,\n",
    "    \"Mutual NAV \":MF_NAV[1].text,\n",
    "    \"Mutual Fund Size\":MF_fund_size[2].text\n",
    "    \n",
    "    \n",
    "}\n",
    "MF_Insignt_4"
   ]
  },
  {
   "cell_type": "markdown",
   "id": "80f39911",
   "metadata": {},
   "source": [
    "# Mutual Fund Asset Allocation Link "
   ]
  },
  {
   "cell_type": "code",
   "execution_count": 19,
   "id": "2e769f4b",
   "metadata": {},
   "outputs": [],
   "source": [
    "Base_link=\"https://groww.in\"\n",
    "MF_fund_holding_link_selector=\"pc543Links clrText cur-po\"\n",
    "MF_fund_holding_link=html.find_all(\"a\",class_=MF_fund_holding_link_selector)"
   ]
  },
  {
   "cell_type": "code",
   "execution_count": 20,
   "id": "aa32cfc7",
   "metadata": {},
   "outputs": [
    {
     "data": {
      "text/plain": [
       "'/stocks/rbl-bank-ltd'"
      ]
     },
     "execution_count": 20,
     "metadata": {},
     "output_type": "execute_result"
    }
   ],
   "source": [
    "MF_fund_holding_link[2][\"href\"]"
   ]
  },
  {
   "cell_type": "code",
   "execution_count": 21,
   "id": "fd7f861b",
   "metadata": {},
   "outputs": [
    {
     "data": {
      "text/plain": [
       "['https://groww.in/stocks/itc-ltd',\n",
       " 'https://groww.in/stocks/jindal-stainless-ltd',\n",
       " 'https://groww.in/stocks/rbl-bank-ltd',\n",
       " 'https://groww.in/stocks/irb-infrastructure-developers-ltd',\n",
       " 'https://groww.in/stocks/reliance-industries-ltd',\n",
       " 'https://groww.in/stocks/punjab-national-bank',\n",
       " 'https://groww.in/stocks/bikaji-foods-international-ltd',\n",
       " 'https://groww.in/stocks/himachal-futuristic-communications-ltd',\n",
       " 'https://groww.in/stocks/hindustan-copper-ltd',\n",
       " 'https://groww.in/stocks/archean-chemical-industries-ltd']"
      ]
     },
     "execution_count": 21,
     "metadata": {},
     "output_type": "execute_result"
    }
   ],
   "source": [
    "MF_link_list=[]\n",
    "for i in range(len(MF_fund_holding_link)):\n",
    "    MF_fund_holding_link[0][\"href\"]\n",
    "    MF_link_list.append(Base_link+(MF_fund_holding_link[i][\"href\"]))\n",
    "MF_link_list"
   ]
  },
  {
   "cell_type": "markdown",
   "id": "4a9e1ff9",
   "metadata": {},
   "source": [
    "\n",
    "# Mutual Fund Asset Allocation Details (MF Asset,Sector,Instrument,Asset Allocation)"
   ]
  },
  {
   "cell_type": "code",
   "execution_count": 22,
   "id": "59a9ebcf",
   "metadata": {},
   "outputs": [],
   "source": [
    "MF_fund_sector_selection=\"fs14\"\n",
    "MF_fund_sector=html.find_all(\"td\",class_=MF_fund_sector_selection)"
   ]
  },
  {
   "cell_type": "code",
   "execution_count": 23,
   "id": "33e61efe",
   "metadata": {},
   "outputs": [
    {
     "data": {
      "text/plain": [
       "{'MF Asset': ['ITC Ltd.',\n",
       "  'Jindal Stainless Ltd.',\n",
       "  'RBL Bank Ltd.',\n",
       "  'IRB Infrastructure Developers Ltd.',\n",
       "  'Reliance Industries Ltd.',\n",
       "  'Punjab National Bank',\n",
       "  'Bikaji Foods International Ltd.',\n",
       "  'HFCL Ltd.',\n",
       "  'Hindustan Copper Ltd.',\n",
       "  'Archean Chemical Industries Ltd.'],\n",
       " 'Sector': ['Consumer Staples',\n",
       "  'Metals & Mining',\n",
       "  'Financial',\n",
       "  'Construction',\n",
       "  'Energy',\n",
       "  'Financial',\n",
       "  'Consumer Staples',\n",
       "  'Communication',\n",
       "  'Metals & Mining',\n",
       "  'Chemicals'],\n",
       " 'Instrument': ['Equity',\n",
       "  'Equity',\n",
       "  'Equity',\n",
       "  'Equity',\n",
       "  'Equity',\n",
       "  'Equity',\n",
       "  'Equity',\n",
       "  'Equity',\n",
       "  'Equity',\n",
       "  'Equity'],\n",
       " 'Asset Allocation': ['9.5%',\n",
       "  '5.7%',\n",
       "  '5.3%',\n",
       "  '5.0%',\n",
       "  '4.4%',\n",
       "  '4.4%',\n",
       "  '4.1%',\n",
       "  '2.5%',\n",
       "  '2.4%',\n",
       "  '2.2%']}"
      ]
     },
     "execution_count": 23,
     "metadata": {},
     "output_type": "execute_result"
    }
   ],
   "source": [
    "MF_fund_sector_selection=\"fs14\"\n",
    "MF_fund_sector=html.find_all(\"td\",class_=MF_fund_sector_selection)\n",
    "\n",
    "MF_holding_details={\n",
    "    \"MF Asset\":[],\n",
    "    \"Sector\":[],\n",
    "    \"Instrument\":[],\n",
    "    \"Asset Allocation\":[]\n",
    "}\n",
    "\n",
    "\n",
    "\n",
    "for i in range(len(MF_fund_sector)):\n",
    "    if i%4==0:\n",
    "        MF_holding_details[\"MF Asset\"].append((MF_fund_sector[i].text))\n",
    "    elif i%4==1:\n",
    "        MF_holding_details[\"Sector\"].append((MF_fund_sector[i].text))\n",
    "    elif i%4==2:\n",
    "        MF_holding_details[\"Instrument\"].append((MF_fund_sector[i].text))\n",
    "    elif i%4==3:\n",
    "        MF_holding_details[\"Asset Allocation\"].append((MF_fund_sector[i].text))\n",
    "\n",
    "MF_holding_details\n",
    "    "
   ]
  },
  {
   "cell_type": "code",
   "execution_count": 24,
   "id": "e985e46c",
   "metadata": {},
   "outputs": [
    {
     "data": {
      "text/html": [
       "<div>\n",
       "<style scoped>\n",
       "    .dataframe tbody tr th:only-of-type {\n",
       "        vertical-align: middle;\n",
       "    }\n",
       "\n",
       "    .dataframe tbody tr th {\n",
       "        vertical-align: top;\n",
       "    }\n",
       "\n",
       "    .dataframe thead th {\n",
       "        text-align: right;\n",
       "    }\n",
       "</style>\n",
       "<table border=\"1\" class=\"dataframe\">\n",
       "  <thead>\n",
       "    <tr style=\"text-align: right;\">\n",
       "      <th></th>\n",
       "      <th>MF Asset</th>\n",
       "      <th>Sector</th>\n",
       "      <th>Instrument</th>\n",
       "      <th>Asset Allocation</th>\n",
       "    </tr>\n",
       "  </thead>\n",
       "  <tbody>\n",
       "    <tr>\n",
       "      <th>0</th>\n",
       "      <td>ITC Ltd.</td>\n",
       "      <td>Consumer Staples</td>\n",
       "      <td>Equity</td>\n",
       "      <td>9.5%</td>\n",
       "    </tr>\n",
       "    <tr>\n",
       "      <th>1</th>\n",
       "      <td>Jindal Stainless Ltd.</td>\n",
       "      <td>Metals &amp; Mining</td>\n",
       "      <td>Equity</td>\n",
       "      <td>5.7%</td>\n",
       "    </tr>\n",
       "    <tr>\n",
       "      <th>2</th>\n",
       "      <td>RBL Bank Ltd.</td>\n",
       "      <td>Financial</td>\n",
       "      <td>Equity</td>\n",
       "      <td>5.3%</td>\n",
       "    </tr>\n",
       "    <tr>\n",
       "      <th>3</th>\n",
       "      <td>IRB Infrastructure Developers Ltd.</td>\n",
       "      <td>Construction</td>\n",
       "      <td>Equity</td>\n",
       "      <td>5.0%</td>\n",
       "    </tr>\n",
       "    <tr>\n",
       "      <th>4</th>\n",
       "      <td>Reliance Industries Ltd.</td>\n",
       "      <td>Energy</td>\n",
       "      <td>Equity</td>\n",
       "      <td>4.4%</td>\n",
       "    </tr>\n",
       "    <tr>\n",
       "      <th>5</th>\n",
       "      <td>Punjab National Bank</td>\n",
       "      <td>Financial</td>\n",
       "      <td>Equity</td>\n",
       "      <td>4.4%</td>\n",
       "    </tr>\n",
       "    <tr>\n",
       "      <th>6</th>\n",
       "      <td>Bikaji Foods International Ltd.</td>\n",
       "      <td>Consumer Staples</td>\n",
       "      <td>Equity</td>\n",
       "      <td>4.1%</td>\n",
       "    </tr>\n",
       "    <tr>\n",
       "      <th>7</th>\n",
       "      <td>HFCL Ltd.</td>\n",
       "      <td>Communication</td>\n",
       "      <td>Equity</td>\n",
       "      <td>2.5%</td>\n",
       "    </tr>\n",
       "    <tr>\n",
       "      <th>8</th>\n",
       "      <td>Hindustan Copper Ltd.</td>\n",
       "      <td>Metals &amp; Mining</td>\n",
       "      <td>Equity</td>\n",
       "      <td>2.4%</td>\n",
       "    </tr>\n",
       "    <tr>\n",
       "      <th>9</th>\n",
       "      <td>Archean Chemical Industries Ltd.</td>\n",
       "      <td>Chemicals</td>\n",
       "      <td>Equity</td>\n",
       "      <td>2.2%</td>\n",
       "    </tr>\n",
       "  </tbody>\n",
       "</table>\n",
       "</div>"
      ],
      "text/plain": [
       "                             MF Asset            Sector Instrument  \\\n",
       "0                            ITC Ltd.  Consumer Staples     Equity   \n",
       "1               Jindal Stainless Ltd.   Metals & Mining     Equity   \n",
       "2                       RBL Bank Ltd.         Financial     Equity   \n",
       "3  IRB Infrastructure Developers Ltd.      Construction     Equity   \n",
       "4            Reliance Industries Ltd.            Energy     Equity   \n",
       "5                Punjab National Bank         Financial     Equity   \n",
       "6     Bikaji Foods International Ltd.  Consumer Staples     Equity   \n",
       "7                           HFCL Ltd.     Communication     Equity   \n",
       "8               Hindustan Copper Ltd.   Metals & Mining     Equity   \n",
       "9    Archean Chemical Industries Ltd.         Chemicals     Equity   \n",
       "\n",
       "  Asset Allocation  \n",
       "0             9.5%  \n",
       "1             5.7%  \n",
       "2             5.3%  \n",
       "3             5.0%  \n",
       "4             4.4%  \n",
       "5             4.4%  \n",
       "6             4.1%  \n",
       "7             2.5%  \n",
       "8             2.4%  \n",
       "9             2.2%  "
      ]
     },
     "execution_count": 24,
     "metadata": {},
     "output_type": "execute_result"
    }
   ],
   "source": [
    "Holding_Info=pd.DataFrame(MF_holding_details)\n",
    "Holding_Info"
   ]
  },
  {
   "cell_type": "markdown",
   "id": "18027e2f",
   "metadata": {},
   "source": [
    "# Mutual Fund Details Such As Min. Investment, Min. SIP, MF Rank, Asset under Mgt,Date of incorpation,Fund Bench mark"
   ]
  },
  {
   "cell_type": "code",
   "execution_count": 25,
   "id": "5aac5bd8",
   "metadata": {},
   "outputs": [],
   "source": [
    "MF_fund_equity_selection=\"fs16 fw500\"\n",
    "MF_fund_equity_allocation=html.find_all(\"td\",class_=MF_fund_equity_selection)"
   ]
  },
  {
   "cell_type": "code",
   "execution_count": 26,
   "id": "d7a5ecb1",
   "metadata": {},
   "outputs": [
    {
     "data": {
      "text/plain": [
       "'₹5,000'"
      ]
     },
     "execution_count": 26,
     "metadata": {},
     "output_type": "execute_result"
    }
   ],
   "source": [
    "MF_fund_equity_allocation[0].text"
   ]
  },
  {
   "cell_type": "code",
   "execution_count": 27,
   "id": "bc2cadb5",
   "metadata": {},
   "outputs": [
    {
     "data": {
      "text/plain": [
       "{'Min Investment': '₹5,000',\n",
       " 'Min 2nd Investment': '₹1,000',\n",
       " 'Min SIP': '₹1,000',\n",
       " 'MF Rank (In Total Asset)': '#34 in India',\n",
       " 'Asset under Mgt': '₹6,178.85Cr',\n",
       " 'Date of Incorporation': '15 Apr 1996',\n",
       " 'Fund bench mark': 'NIFTY Smallcap 250 Total Return Index'}"
      ]
     },
     "execution_count": 27,
     "metadata": {},
     "output_type": "execute_result"
    }
   ],
   "source": [
    "MF_Insight_1={\n",
    "    \"Min Investment\":MF_fund_equity_allocation[0].text,\n",
    "    \"Min 2nd Investment\":MF_fund_equity_allocation[1].text,\n",
    "    \"Min SIP\":MF_fund_equity_allocation[2].text,\n",
    "    \"MF Rank (In Total Asset)\":MF_fund_equity_allocation[3].text,\n",
    "    \"Asset under Mgt\":MF_fund_equity_allocation[4].text,\n",
    "    \"Date of Incorporation\":MF_fund_equity_allocation[5].text,\n",
    "    \"Fund bench mark\":MF_fund_equity_allocation[6].text\n",
    "    \n",
    "}\n",
    "\n",
    "\n",
    "\n",
    "\n",
    "\n",
    "\n",
    "MF_Insight_1"
   ]
  },
  {
   "cell_type": "code",
   "execution_count": 28,
   "id": "67859668",
   "metadata": {},
   "outputs": [],
   "source": [
    "insight_2_selector=\"fs16\"\n",
    "insight_2=html.find_all(\"p\",class_=insight_2_selector)"
   ]
  },
  {
   "cell_type": "markdown",
   "id": "70b929de",
   "metadata": {},
   "source": [
    "# Mutual Fund Exit load , Stamped Duty & Tax Implication Details"
   ]
  },
  {
   "cell_type": "code",
   "execution_count": 29,
   "id": "3feb096d",
   "metadata": {},
   "outputs": [
    {
     "data": {
      "text/plain": [
       "{'Exit load': 'Exit load of 1% if redeemed within 1 year',\n",
       " 'Stamped Duty': '0.005% (from July 1st, 2020)',\n",
       " 'Tax Implication': 'Returns are taxed at 15%, if you redeem before one year. After 1 year, you are required to pay LTCG tax of 10% on returns of Rs 1 lakh+ in a financial year. '}"
      ]
     },
     "execution_count": 29,
     "metadata": {},
     "output_type": "execute_result"
    }
   ],
   "source": [
    "MF_Insight_2={\n",
    "    \"Exit load\":insight_2[1].text,\n",
    "    \"Stamped Duty\":insight_2[2].text,\n",
    "    \"Tax Implication\":insight_2[3].text\n",
    "    \n",
    "}\n",
    "MF_Insight_2"
   ]
  },
  {
   "cell_type": "code",
   "execution_count": 30,
   "id": "1e53e1ad",
   "metadata": {},
   "outputs": [],
   "source": [
    "expense_ratio_selector=\"fs16 fw500 ot654subHeading\"\n",
    "MF_fund_Expense_ratio=html.find_all(\"h3\",class_=expense_ratio_selector)"
   ]
  },
  {
   "cell_type": "code",
   "execution_count": 31,
   "id": "4a540f6c",
   "metadata": {},
   "outputs": [
    {
     "data": {
      "text/plain": [
       "'0.62%'"
      ]
     },
     "execution_count": 31,
     "metadata": {},
     "output_type": "execute_result"
    }
   ],
   "source": [
    "MF_fund_Expense_ratio[0].text.strip(\"Expense ratio: \")"
   ]
  },
  {
   "cell_type": "code",
   "execution_count": 32,
   "id": "1723d4a6",
   "metadata": {},
   "outputs": [
    {
     "data": {
      "text/plain": [
       "'0.62%'"
      ]
     },
     "execution_count": 32,
     "metadata": {},
     "output_type": "execute_result"
    }
   ],
   "source": [
    "expense_ratio=MF_fund_Expense_ratio[0].text.strip(\"Expense ratio: \")\n",
    "expense_ratio"
   ]
  },
  {
   "cell_type": "code",
   "execution_count": 33,
   "id": "a2dbc7d9",
   "metadata": {},
   "outputs": [],
   "source": [
    "fund_mgr_Sel=\"fm982PersonName fs16 fw500 clrText130\"\n",
    "MF_MGR=html.find_all(\"div\",class_=fund_mgr_Sel)"
   ]
  },
  {
   "cell_type": "code",
   "execution_count": 34,
   "id": "469ff50a",
   "metadata": {},
   "outputs": [
    {
     "data": {
      "text/plain": [
       "'Sanjeev Sharma'"
      ]
     },
     "execution_count": 34,
     "metadata": {},
     "output_type": "execute_result"
    }
   ],
   "source": [
    "MF_MGR[0].text"
   ]
  },
  {
   "cell_type": "code",
   "execution_count": 35,
   "id": "eca6425f",
   "metadata": {},
   "outputs": [
    {
     "data": {
      "text/plain": [
       "{'Expense Ratio': '0.62%', 'Mutual Fund Manager': 'Sanjeev Sharma'}"
      ]
     },
     "execution_count": 35,
     "metadata": {},
     "output_type": "execute_result"
    }
   ],
   "source": [
    "MF_Insight_3={\n",
    "    \"Expense Ratio\":MF_fund_Expense_ratio[0].text.strip(\"Expense ratio: \"),\n",
    "    \"Mutual Fund Manager\":MF_MGR[0].text\n",
    "}\n",
    "MF_Insight_3"
   ]
  },
  {
   "cell_type": "markdown",
   "id": "624d08e6",
   "metadata": {},
   "source": [
    "# Mutual fund Address Details"
   ]
  },
  {
   "cell_type": "code",
   "execution_count": 36,
   "id": "c1a2981d",
   "metadata": {},
   "outputs": [
    {
     "data": {
      "text/plain": [
       "'6th Floor, Sea Breeze Building,Appa Saheb Marathe Marg,Prabhadevi, Mumbai 400025'"
      ]
     },
     "execution_count": 36,
     "metadata": {},
     "output_type": "execute_result"
    }
   ],
   "source": [
    "MF_Add_Details_selector=\"fs16 clrText\"\n",
    "MF_Add_Details=html.find_all(\"div\",class_=MF_Add_Details_selector)\n",
    "MF_Add_Details[0].text"
   ]
  },
  {
   "cell_type": "code",
   "execution_count": 37,
   "id": "1079a708",
   "metadata": {},
   "outputs": [
    {
     "data": {
      "text/plain": [
       "{'Address': '6th Floor, Sea Breeze Building,Appa Saheb Marathe Marg,Prabhadevi, Mumbai 400025',\n",
       " 'Phone': '022-62955000',\n",
       " 'Launch Date': '15 Apr 1996',\n",
       " 'E-Mail': 'NA'}"
      ]
     },
     "execution_count": 37,
     "metadata": {},
     "output_type": "execute_result"
    }
   ],
   "source": [
    "fund_house_details={\n",
    "    \"Address\":MF_Add_Details[0].text,\n",
    "    \"Phone\":MF_Add_Details[1].text,\n",
    "    \"Launch Date\":MF_Add_Details[2].text,\n",
    "    \"E-Mail\":MF_Add_Details[3].text\n",
    "}\n",
    "\n",
    "fund_house_details"
   ]
  },
  {
   "cell_type": "markdown",
   "id": "8264c0c7",
   "metadata": {},
   "source": [
    "# Mutual Fund All Details "
   ]
  },
  {
   "cell_type": "code",
   "execution_count": 38,
   "id": "cc6a19c3",
   "metadata": {},
   "outputs": [
    {
     "data": {
      "text/plain": [
       "{'Mutual Fund Name': 'Quant Small Cap Fund Direct Plan Growth',\n",
       " 'Mutual NAV Date': ' NAV: 06 Apr 2023',\n",
       " 'Mutual Fund Size': '₹3,301.73Cr',\n",
       " 'Min Investment': '₹5,000',\n",
       " 'Min 2nd Investment': '₹1,000',\n",
       " 'Min SIP': '₹1,000',\n",
       " 'MF Rank (In Total Asset)': '#34 in India',\n",
       " 'Asset under Mgt': '₹6,178.85Cr',\n",
       " 'Date of Incorporation': '15 Apr 1996',\n",
       " 'Fund bench mark': 'NIFTY Smallcap 250 Total Return Index',\n",
       " 'Exit load': 'Exit load of 1% if redeemed within 1 year',\n",
       " 'Expense Ratio': '0.62%',\n",
       " 'Launch Date': '15 Apr 1996',\n",
       " 'E-Mail': 'NA',\n",
       " 'Mutual Fund Manager': 'Sanjeev Sharma',\n",
       " 'Stamped Duty': '0.005% (from July 1st, 2020)',\n",
       " 'Tax Implication': 'Returns are taxed at 15%, if you redeem before one year. After 1 year, you are required to pay LTCG tax of 10% on returns of Rs 1 lakh+ in a financial year. ',\n",
       " 'Address': '6th Floor, Sea Breeze Building,Appa Saheb Marathe Marg,Prabhadevi, Mumbai 400025',\n",
       " 'Phone': '022-62955000'}"
      ]
     },
     "execution_count": 38,
     "metadata": {},
     "output_type": "execute_result"
    }
   ],
   "source": [
    "Mutual_fund_Details={\n",
    "    \"Mutual Fund Name\":MF_Name[0].text,\n",
    "    \"Mutual NAV Date\":MF_NAV[0].text,\n",
    "    \"Mutual NAV Date\":MF_NAV_date[0].text,\n",
    "    \"Mutual Fund Size\":MF_fund_size[2].text,\n",
    "    \"Min Investment\":MF_fund_equity_allocation[0].text,\n",
    "    \"Min 2nd Investment\":MF_fund_equity_allocation[1].text,\n",
    "    \"Min SIP\":MF_fund_equity_allocation[2].text,\n",
    "    \"MF Rank (In Total Asset)\":MF_fund_equity_allocation[3].text,\n",
    "    \"Asset under Mgt\":MF_fund_equity_allocation[4].text,\n",
    "    \"Date of Incorporation\":MF_fund_equity_allocation[5].text,\n",
    "    \"Fund bench mark\":MF_fund_equity_allocation[6].text,\n",
    "    \"Exit load\":insight_2[1].text,\n",
    "    \"Expense Ratio\":MF_fund_Expense_ratio[0].text.strip(\"Expense ratio: \"),\n",
    "    \"Launch Date\":MF_Add_Details[2].text,\n",
    "    \"E-Mail\":MF_Add_Details[3].text,\n",
    "    \"Mutual Fund Manager\":MF_MGR[0].text,\n",
    "    \"Stamped Duty\":insight_2[2].text,\n",
    "    \"Tax Implication\":insight_2[3].text,\n",
    "    \"Address\":MF_Add_Details[0].text,\n",
    "    \"Phone\":MF_Add_Details[1].text,\n",
    "    \n",
    "    \n",
    "    \n",
    "}\n",
    "Mutual_fund_Details"
   ]
  },
  {
   "cell_type": "code",
   "execution_count": 39,
   "id": "55b56c6d",
   "metadata": {},
   "outputs": [
    {
     "data": {
      "text/html": [
       "<div>\n",
       "<style scoped>\n",
       "    .dataframe tbody tr th:only-of-type {\n",
       "        vertical-align: middle;\n",
       "    }\n",
       "\n",
       "    .dataframe tbody tr th {\n",
       "        vertical-align: top;\n",
       "    }\n",
       "\n",
       "    .dataframe thead th {\n",
       "        text-align: right;\n",
       "    }\n",
       "</style>\n",
       "<table border=\"1\" class=\"dataframe\">\n",
       "  <thead>\n",
       "    <tr style=\"text-align: right;\">\n",
       "      <th></th>\n",
       "      <th>0</th>\n",
       "    </tr>\n",
       "  </thead>\n",
       "  <tbody>\n",
       "    <tr>\n",
       "      <th>Mutual Fund Name</th>\n",
       "      <td>Quant Small Cap Fund Direct Plan Growth</td>\n",
       "    </tr>\n",
       "    <tr>\n",
       "      <th>Mutual NAV Date</th>\n",
       "      <td>NAV: 06 Apr 2023</td>\n",
       "    </tr>\n",
       "    <tr>\n",
       "      <th>Mutual Fund Size</th>\n",
       "      <td>₹3,301.73Cr</td>\n",
       "    </tr>\n",
       "    <tr>\n",
       "      <th>Min Investment</th>\n",
       "      <td>₹5,000</td>\n",
       "    </tr>\n",
       "    <tr>\n",
       "      <th>Min 2nd Investment</th>\n",
       "      <td>₹1,000</td>\n",
       "    </tr>\n",
       "    <tr>\n",
       "      <th>Min SIP</th>\n",
       "      <td>₹1,000</td>\n",
       "    </tr>\n",
       "    <tr>\n",
       "      <th>MF Rank (In Total Asset)</th>\n",
       "      <td>#34 in India</td>\n",
       "    </tr>\n",
       "    <tr>\n",
       "      <th>Asset under Mgt</th>\n",
       "      <td>₹6,178.85Cr</td>\n",
       "    </tr>\n",
       "    <tr>\n",
       "      <th>Date of Incorporation</th>\n",
       "      <td>15 Apr 1996</td>\n",
       "    </tr>\n",
       "    <tr>\n",
       "      <th>Fund bench mark</th>\n",
       "      <td>NIFTY Smallcap 250 Total Return Index</td>\n",
       "    </tr>\n",
       "    <tr>\n",
       "      <th>Exit load</th>\n",
       "      <td>Exit load of 1% if redeemed within 1 year</td>\n",
       "    </tr>\n",
       "    <tr>\n",
       "      <th>Expense Ratio</th>\n",
       "      <td>0.62%</td>\n",
       "    </tr>\n",
       "    <tr>\n",
       "      <th>Launch Date</th>\n",
       "      <td>15 Apr 1996</td>\n",
       "    </tr>\n",
       "    <tr>\n",
       "      <th>E-Mail</th>\n",
       "      <td>NA</td>\n",
       "    </tr>\n",
       "    <tr>\n",
       "      <th>Mutual Fund Manager</th>\n",
       "      <td>Sanjeev Sharma</td>\n",
       "    </tr>\n",
       "    <tr>\n",
       "      <th>Stamped Duty</th>\n",
       "      <td>0.005% (from July 1st, 2020)</td>\n",
       "    </tr>\n",
       "    <tr>\n",
       "      <th>Tax Implication</th>\n",
       "      <td>Returns are taxed at 15%, if you redeem before...</td>\n",
       "    </tr>\n",
       "    <tr>\n",
       "      <th>Address</th>\n",
       "      <td>6th Floor, Sea Breeze Building,Appa Saheb Mara...</td>\n",
       "    </tr>\n",
       "    <tr>\n",
       "      <th>Phone</th>\n",
       "      <td>022-62955000</td>\n",
       "    </tr>\n",
       "  </tbody>\n",
       "</table>\n",
       "</div>"
      ],
      "text/plain": [
       "                                                                          0\n",
       "Mutual Fund Name                    Quant Small Cap Fund Direct Plan Growth\n",
       "Mutual NAV Date                                            NAV: 06 Apr 2023\n",
       "Mutual Fund Size                                                ₹3,301.73Cr\n",
       "Min Investment                                                       ₹5,000\n",
       "Min 2nd Investment                                                   ₹1,000\n",
       "Min SIP                                                              ₹1,000\n",
       "MF Rank (In Total Asset)                                       #34 in India\n",
       "Asset under Mgt                                                 ₹6,178.85Cr\n",
       "Date of Incorporation                                           15 Apr 1996\n",
       "Fund bench mark                       NIFTY Smallcap 250 Total Return Index\n",
       "Exit load                         Exit load of 1% if redeemed within 1 year\n",
       "Expense Ratio                                                         0.62%\n",
       "Launch Date                                                     15 Apr 1996\n",
       "E-Mail                                                                   NA\n",
       "Mutual Fund Manager                                          Sanjeev Sharma\n",
       "Stamped Duty                                   0.005% (from July 1st, 2020)\n",
       "Tax Implication           Returns are taxed at 15%, if you redeem before...\n",
       "Address                   6th Floor, Sea Breeze Building,Appa Saheb Mara...\n",
       "Phone                                                          022-62955000"
      ]
     },
     "execution_count": 39,
     "metadata": {},
     "output_type": "execute_result"
    }
   ],
   "source": [
    "df=pd.DataFrame([Mutual_fund_Details]).T\n",
    "df"
   ]
  },
  {
   "cell_type": "markdown",
   "id": "3c30e301",
   "metadata": {},
   "source": [
    "# Final Code for getting the Mutual Fund All Details "
   ]
  },
  {
   "cell_type": "code",
   "execution_count": 92,
   "id": "0b80a2f4",
   "metadata": {},
   "outputs": [
    {
     "name": "stdout",
     "output_type": "stream",
     "text": [
      "Enter the URL https://groww.in//mutual-funds/navi-nifty-50-index-fund-direct-growth\n"
     ]
    },
    {
     "data": {
      "text/plain": [
       "'Thanks Your Details is converted in Excel Sheet'"
      ]
     },
     "execution_count": 92,
     "metadata": {},
     "output_type": "execute_result"
    }
   ],
   "source": [
    "    import os\n",
    "    import bs4\n",
    "    from bs4 import BeautifulSoup\n",
    "    import requests\n",
    "    import pandas as pd\n",
    "\n",
    "    topic_url=input(\"Enter the URL \")\n",
    "\n",
    "    def get_topic_page(topic_url):\n",
    "        # Download the page\n",
    "        response = requests.get(topic_url)\n",
    "        page_content = response.text\n",
    "        # Check successful response\n",
    "        if response.status_code != 200:\n",
    "            raise Exception('Failed to load page {}'.format(topic_url))\n",
    "        # Parse using Beautiful soup\n",
    "        html= BeautifulSoup(page_content, 'html.parser')\n",
    "        \n",
    "        # Getting Mutual Fund Name \n",
    "        MF_Name_selector=\"mfh239SchemeName fw400 fs24\"\n",
    "        MF_Name=html.find_all(\"h1\",class_=MF_Name_selector)\n",
    "        \n",
    "        \n",
    "        # Getting Mutual Nav Details\n",
    "        MF_NAV_date_selection=\"fd12Header clrSubText fs16 fw400\"\n",
    "        MF_NAV_date=html.find_all(\"td\",class_=MF_NAV_date_selection)\n",
    "        \n",
    "\n",
    "        # Getting Mutual Fund Min SIP\n",
    "        MF_Min_SIP_selection=\"fd12Cell clrText130 fs16 fw500\"\n",
    "        MF_Min_SIP=html.find_all(\"td\",class_=MF_Min_SIP_selection)\n",
    "        \n",
    "\n",
    "        # Getting Mutual Fund Size\n",
    "        MF_fund_size_selection=\"fd12Cell clrText130 fs16 fw500\"\n",
    "        MF_fund_size=html.find_all(\"td\",class_=MF_NAV_selection)\n",
    "        \n",
    "        \n",
    "        # Getting Mutual Fund Equity Allocation\n",
    "        MF_fund_equity_selection=\"fs16 fw500\"\n",
    "        MF_fund_equity_allocation=html.find_all(\"td\",class_=MF_fund_equity_selection)\n",
    "\n",
    "\n",
    "        insight_2_selector=\"fs16\"\n",
    "        insight_2=html.find_all(\"p\",class_=insight_2_selector)\n",
    "\n",
    "        # Getting Mutual Fund Expense ratio\n",
    "        expense_ratio_selector=\"fs16 fw500 ot654subHeading\"\n",
    "        MF_fund_Expense_ratio=html.find_all(\"h3\",class_=expense_ratio_selector)\n",
    "        expense_ratio=MF_fund_Expense_ratio[0].text.strip(\"Expense ratio: \")\n",
    "\n",
    "        \n",
    "        # Getting Mutual Fund Manager Details\n",
    "        fund_mgr_Sel=\"fm982PersonName fs16 fw500 clrText130\"\n",
    "        MF_MGR=html.find_all(\"div\",class_=fund_mgr_Sel)\n",
    "\n",
    "        \n",
    "        # Getting Mutual Fund Address Details\n",
    "        MF_Add_Details_selector=\"fs16 clrText\"\n",
    "        MF_Add_Details=html.find_all(\"div\",class_=MF_Add_Details_selector)\n",
    "\n",
    "        \n",
    "        #Creating list with All Mutual Details \n",
    "        Mutual_fund_Details={\n",
    "        \"Mutual Fund Name\":MF_Name[0].text,\n",
    "        \"Mutual NAV Date\":MF_NAV_date[0].text,\n",
    "        \"Mutual Fund Size\":MF_fund_size[2].text,\n",
    "        \"Min Investment\":MF_fund_equity_allocation[0].text,\n",
    "        \"Min 2nd Investment\":MF_fund_equity_allocation[1].text,\n",
    "        \"Min SIP\":MF_fund_equity_allocation[2].text,\n",
    "        \"MF Rank (In Total Asset)\":MF_fund_equity_allocation[3].text,\n",
    "        \"Asset under Mgt\":MF_fund_equity_allocation[4].text,\n",
    "        \"Date of Incorporation\":MF_fund_equity_allocation[5].text,\n",
    "        \"Fund bench mark\":MF_fund_equity_allocation[6].text,\n",
    "        \"Exit load\":insight_2[1].text,\n",
    "        \"Expense Ratio\":MF_fund_Expense_ratio[0].text.strip(\"Expense ratio: \"),\n",
    "        \"Launch Date\":MF_Add_Details[2].text,\n",
    "        \"E-Mail\":MF_Add_Details[3].text,\n",
    "        \"Mutual Fund Manager\":MF_MGR[0].text,\n",
    "        \"Stamped Duty\":insight_2[2].text,\n",
    "        \"Tax Implication\":insight_2[3].text,\n",
    "        \"Address\":MF_Add_Details[0].text,\n",
    "        \"Phone\":MF_Add_Details[1].text,\n",
    "\n",
    "        }\n",
    "        \n",
    "        #converting all Details in data frame by using Pandas\n",
    "        df=pd.DataFrame([Mutual_fund_Details]).T\n",
    "        df.to_excel(MF_Name[0].text+\".xlsx\",index=1)\n",
    "        MF_fund_sector_selection=\"fs14\"\n",
    "\n",
    "       \n",
    "\n",
    "        return \"Thanks Your Details is converted in Excel Sheet\"\n",
    "\n",
    "    get_topic_page(topic_url)\n",
    "    "
   ]
  },
  {
   "cell_type": "markdown",
   "id": "f5181761",
   "metadata": {},
   "source": [
    "# Final Code for getting Asset Allocation with Percentage"
   ]
  },
  {
   "cell_type": "code",
   "execution_count": 91,
   "id": "1ebb216d",
   "metadata": {},
   "outputs": [
    {
     "name": "stdout",
     "output_type": "stream",
     "text": [
      "Enter the URL https://groww.in//mutual-funds/navi-nifty-50-index-fund-direct-growth\n"
     ]
    },
    {
     "data": {
      "text/plain": [
       "'Excel Downloaded'"
      ]
     },
     "execution_count": 91,
     "metadata": {},
     "output_type": "execute_result"
    }
   ],
   "source": [
    "# getting Asset Allocation in Various Sector with Percentage of Allocation \n",
    "\n",
    "#importing library\n",
    "import os\n",
    "import bs4\n",
    "from bs4 import BeautifulSoup\n",
    "import requests\n",
    "import pandas as pd\n",
    "\n",
    "#getting URL from User for which user want Asset Allocation with per.\n",
    "topic_url=input(\"Enter the URL \")\n",
    "\n",
    "def get_topic_page(topic_url):\n",
    "        # Download the page\n",
    "    response = requests.get(topic_url)\n",
    "    page_content = response.text\n",
    "        # Check successful response\n",
    "    if response.status_code != 200:\n",
    "        raise Exception('Failed to load page {}'.format(topic_url))\n",
    "        # Parse using Beautiful soup\n",
    "    \n",
    "    html= BeautifulSoup(page_content, 'html.parser')\n",
    "    MF_Name_selector=\"mfh239SchemeName fw400 fs24\"\n",
    "    MF_Name=html.find_all(\"h1\",class_=MF_Name_selector)\n",
    "    MF_Name[0].text\n",
    "\n",
    "\n",
    "    MF_fund_sector=html.find_all(\"td\",class_=MF_fund_sector_selection)\n",
    "    MF_holding_details={\n",
    "            \"MF Asset\":[],\n",
    "            \"Sector\":[],\n",
    "            \"Instrument\":[],\n",
    "            \"Asset Allocation\":[]\n",
    "            }\n",
    "\n",
    "\n",
    "    for i in range(len(MF_fund_sector)):\n",
    "        if i%4==0:\n",
    "            MF_holding_details[\"MF Asset\"].append((MF_fund_sector[i].text))\n",
    "        elif i%4==1:\n",
    "            MF_holding_details[\"Sector\"].append((MF_fund_sector[i].text))\n",
    "        elif i%4==2:\n",
    "            MF_holding_details[\"Instrument\"].append((MF_fund_sector[i].text))\n",
    "        elif i%4==3:\n",
    "            MF_holding_details[\"Asset Allocation\"].append((MF_fund_sector[i].text))\n",
    "\n",
    "    holding_Details=pd.DataFrame(MF_holding_details)\n",
    "    holding_Details.to_excel((MF_Name[0].text)+\" Asset Allocation.xlsx\",index=0)\n",
    "    return \"Excel Downloaded\"\n",
    "\n",
    "get_topic_page(topic_url)"
   ]
  },
  {
   "cell_type": "code",
   "execution_count": null,
   "id": "432449b0",
   "metadata": {},
   "outputs": [],
   "source": []
  },
  {
   "cell_type": "code",
   "execution_count": null,
   "id": "cd746033",
   "metadata": {},
   "outputs": [],
   "source": []
  }
 ],
 "metadata": {
  "kernelspec": {
   "display_name": "Python 3 (ipykernel)",
   "language": "python",
   "name": "python3"
  },
  "language_info": {
   "codemirror_mode": {
    "name": "ipython",
    "version": 3
   },
   "file_extension": ".py",
   "mimetype": "text/x-python",
   "name": "python",
   "nbconvert_exporter": "python",
   "pygments_lexer": "ipython3",
   "version": "3.9.12"
  }
 },
 "nbformat": 4,
 "nbformat_minor": 5
}
